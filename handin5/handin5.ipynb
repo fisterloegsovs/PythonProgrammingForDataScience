{
 "cells": [
  {
   "attachments": {},
   "cell_type": "markdown",
   "metadata": {},
   "source": [
    "## Load the British-English dictionary"
   ]
  },
  {
   "cell_type": "code",
   "execution_count": 30,
   "metadata": {},
   "outputs": [
    {
     "data": {
      "text/html": [
       "<div>\n",
       "<style scoped>\n",
       "    .dataframe tbody tr th:only-of-type {\n",
       "        vertical-align: middle;\n",
       "    }\n",
       "\n",
       "    .dataframe tbody tr th {\n",
       "        vertical-align: top;\n",
       "    }\n",
       "\n",
       "    .dataframe thead th {\n",
       "        text-align: right;\n",
       "    }\n",
       "</style>\n",
       "<table border=\"1\" class=\"dataframe\">\n",
       "  <thead>\n",
       "    <tr style=\"text-align: right;\">\n",
       "      <th></th>\n",
       "      <th>word</th>\n",
       "    </tr>\n",
       "  </thead>\n",
       "  <tbody>\n",
       "    <tr>\n",
       "      <th>0</th>\n",
       "      <td>escutcheons</td>\n",
       "    </tr>\n",
       "    <tr>\n",
       "      <th>1</th>\n",
       "      <td>detail's</td>\n",
       "    </tr>\n",
       "    <tr>\n",
       "      <th>2</th>\n",
       "      <td>calculi</td>\n",
       "    </tr>\n",
       "    <tr>\n",
       "      <th>3</th>\n",
       "      <td>eaves</td>\n",
       "    </tr>\n",
       "    <tr>\n",
       "      <th>4</th>\n",
       "      <td>exultantly</td>\n",
       "    </tr>\n",
       "    <tr>\n",
       "      <th>5</th>\n",
       "      <td>clothing's</td>\n",
       "    </tr>\n",
       "    <tr>\n",
       "      <th>6</th>\n",
       "      <td>Eddington</td>\n",
       "    </tr>\n",
       "    <tr>\n",
       "      <th>7</th>\n",
       "      <td>Ashley</td>\n",
       "    </tr>\n",
       "    <tr>\n",
       "      <th>8</th>\n",
       "      <td>breakfast</td>\n",
       "    </tr>\n",
       "    <tr>\n",
       "      <th>9</th>\n",
       "      <td>Brooklyn</td>\n",
       "    </tr>\n",
       "    <tr>\n",
       "      <th>10</th>\n",
       "      <td>bandit</td>\n",
       "    </tr>\n",
       "    <tr>\n",
       "      <th>11</th>\n",
       "      <td>Burnett's</td>\n",
       "    </tr>\n",
       "    <tr>\n",
       "      <th>12</th>\n",
       "      <td>calipers</td>\n",
       "    </tr>\n",
       "    <tr>\n",
       "      <th>13</th>\n",
       "      <td>chairmen</td>\n",
       "    </tr>\n",
       "    <tr>\n",
       "      <th>14</th>\n",
       "      <td>barbeque's</td>\n",
       "    </tr>\n",
       "  </tbody>\n",
       "</table>\n",
       "</div>"
      ],
      "text/plain": [
       "           word\n",
       "0   escutcheons\n",
       "1      detail's\n",
       "2       calculi\n",
       "3         eaves\n",
       "4    exultantly\n",
       "5    clothing's\n",
       "6     Eddington\n",
       "7        Ashley\n",
       "8     breakfast\n",
       "9      Brooklyn\n",
       "10       bandit\n",
       "11    Burnett's\n",
       "12     calipers\n",
       "13     chairmen\n",
       "14   barbeque's"
      ]
     },
     "execution_count": 30,
     "metadata": {},
     "output_type": "execute_result"
    }
   ],
   "source": [
    "import pandas as pd\n",
    "\n",
    "with open('british-english', 'r') as f:\n",
    "    lines = [line.strip() for line in f]\n",
    "\n",
    "df_british = pd.DataFrame(lines, columns=[\"word\"])\n",
    "\n",
    "df_british.head(15)"
   ]
  },
  {
   "attachments": {},
   "cell_type": "markdown",
   "metadata": {},
   "source": [
    "## Create the function for palindrome detection."
   ]
  },
  {
   "cell_type": "code",
   "execution_count": 31,
   "metadata": {},
   "outputs": [],
   "source": [
    "def find_palindromes(word_dataframe, minimum_length=4):\n",
    "\n",
    "    palindromes = word_dataframe[word_dataframe[\"word\"].str.lower() == word_dataframe[\"word\"].str[::-1].str.lower()]\n",
    "\n",
    "    palindromes = palindromes[palindromes[\"word\"].str.len() >= minimum_length]\n",
    "    \n",
    "    palindromes = palindromes[palindromes[\"word\"].str.contains(\"'\") == False]\n",
    "    \n",
    "    return palindromes\n"
   ]
  },
  {
   "attachments": {},
   "cell_type": "markdown",
   "metadata": {},
   "source": [
    "**Test the palindrome detection function.**"
   ]
  },
  {
   "cell_type": "code",
   "execution_count": 32,
   "metadata": {},
   "outputs": [
    {
     "name": "stdout",
     "output_type": "stream",
     "text": [
      "          word\n",
      "6836   deified\n",
      "13710    civic\n"
     ]
    }
   ],
   "source": [
    "\n",
    "palindromes = find_palindromes(df_british, minimum_length=5)\n",
    "print(palindromes)\n"
   ]
  },
  {
   "attachments": {},
   "cell_type": "markdown",
   "metadata": {},
   "source": [
    "## Create the function for searching words by prefix."
   ]
  },
  {
   "cell_type": "code",
   "execution_count": 33,
   "metadata": {},
   "outputs": [],
   "source": [
    "def find_words_starting_with(word_dataframe, prefix):\n",
    "    \n",
    "    words = word_dataframe[word_dataframe[\"word\"].str.lower().str.startswith(prefix.lower())]\n",
    "    \n",
    "    words = words[words[\"word\"].str.contains(\"'\") == False]\n",
    "    \n",
    "    words = words.groupby(words[\"word\"].str.len())\n",
    "\n",
    "    words = words.apply(lambda x: x[\"word\"].tolist()).to_dict()\n",
    "\n",
    "    return words"
   ]
  },
  {
   "attachments": {},
   "cell_type": "markdown",
   "metadata": {},
   "source": [
    "**Test the function for searching words by prefix.**"
   ]
  },
  {
   "cell_type": "code",
   "execution_count": 34,
   "metadata": {},
   "outputs": [
    {
     "name": "stdout",
     "output_type": "stream",
     "text": [
      "{12: ['congratulate'], 13: ['congratulated', 'congratulates'], 14: ['congratulating', 'congratulation', 'congratulatory'], 15: ['congratulations']}\n"
     ]
    }
   ],
   "source": [
    "\n",
    "matching_words = find_words_starting_with(df_british, \"congra\")\n",
    "print(matching_words)\n"
   ]
  }
 ],
 "metadata": {
  "kernelspec": {
   "display_name": "Python 3",
   "language": "python",
   "name": "python3"
  },
  "language_info": {
   "codemirror_mode": {
    "name": "ipython",
    "version": 3
   },
   "file_extension": ".py",
   "mimetype": "text/x-python",
   "name": "python",
   "nbconvert_exporter": "python",
   "pygments_lexer": "ipython3",
   "version": "3.10.9 (tags/v3.10.9:1dd9be6, Dec  6 2022, 20:01:21) [MSC v.1934 64 bit (AMD64)]"
  },
  "orig_nbformat": 4,
  "vscode": {
   "interpreter": {
    "hash": "8a3d71262b8d5a4cae99fd9ac20e6f2db9d6e464670f549c807ea52dd46903c5"
   }
  }
 },
 "nbformat": 4,
 "nbformat_minor": 2
}
